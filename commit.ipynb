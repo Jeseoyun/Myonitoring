{
 "cells": [
  {
   "cell_type": "code",
   "execution_count": 1,
   "metadata": {},
   "outputs": [
    {
     "name": "stderr",
     "output_type": "stream",
     "text": [
      "ERROR: Could not find a version that satisfies the requirement subprocess (from versions: none)\n",
      "\n",
      "[notice] A new release of pip is available: 24.2 -> 24.3.1\n",
      "[notice] To update, run: python.exe -m pip install --upgrade pip\n",
      "ERROR: No matching distribution found for subprocess\n"
     ]
    }
   ],
   "source": [
    "!pip install subprocess"
   ]
  },
  {
   "cell_type": "code",
   "execution_count": 2,
   "metadata": {},
   "outputs": [],
   "source": [
    "import subprocess\n",
    "import re\n",
    "import os\n",
    "import sys\n",
    "from typing import Optional, List\n"
   ]
  },
  {
   "cell_type": "markdown",
   "metadata": {},
   "source": [
    "- `subprocess`: 터미널에서 명령어를 실행할 수 있게 해줍니다. \n",
    "    - 예를 들어, `git status` 같은 명령어를 Python으로 실행할 수 있습니다.\n",
    "- `re`: 정규 표현식(특정 패턴 검사)을 처리합니다. 커밋 메시지가 규칙에 맞는지 확인할 때 사용됩니다.\n",
    "\n",
    "- `os`: 운영 체제 관련 기능을 제공합니다.\n",
    "    - 예를 들어, 파일이나 디렉토리가 존재하는지 확인할 때 유용합니다.\n",
    "- `sys`: 시스템 관련 정보를 가져옵니다. \n",
    "    - 예를 들어, 프로그램을 종료할 때 사용합니다.\n",
    "- `typing`: 함수에서 데이터 타입을 명확히 표시하기 위해 사용됩니다."
   ]
  },
  {
   "cell_type": "code",
   "execution_count": 12,
   "metadata": {},
   "outputs": [],
   "source": [
    "#기본적으로 사용할 개발 BRANCH 명 자신이름으로 \n",
    "DEFAULT_BRANCH = 'dev'\n",
    "\n",
    "# 정규식 표현으로 패턴 분석 ?을 붙여서 Jira키는 필수가 아니게 했습니다.\n",
    "COMMIT_PATTERN = r'^\\[(feat|fix|docs|style|refactor|test|chore)\\] .+( #([A-Z]+-\\d+))?$'"
   ]
  },
  {
   "cell_type": "code",
   "execution_count": 7,
   "metadata": {},
   "outputs": [],
   "source": [
    "def run_command(command: str, cwd: Optional[str] = None) -> str:\n",
    "    '''\n",
    "    시스템 명령어를 실행하고, 결과를 반환합니다.\n",
    "    '''\n",
    "    try:\n",
    "        result = subprocess.run(\n",
    "            command,\n",
    "            cwd=cwd,\n",
    "            shell=True,\n",
    "            check=True,\n",
    "            text=True,\n",
    "            capture_output=True\n",
    "        )\n",
    "        return result.stdout.strip()\n",
    "    except subprocess.CalledProcessError as e:\n",
    "        print(f\"Error while running command: {command}\")\n",
    "        print(f\"Details: {e.stderr}\")\n",
    "        return \"\""
   ]
  },
  {
   "cell_type": "code",
   "execution_count": 8,
   "metadata": {},
   "outputs": [
    {
     "data": {
      "text/plain": [
       "'On branch dev\\nYour branch is up to date with \\'origin/dev\\'.\\n\\nUntracked files:\\n  (use \"git add <file>...\" to include in what will be committed)\\n\\tcommit.ipynb\\n\\nnothing added to commit but untracked files present (use \"git add\" to track)'"
      ]
     },
     "execution_count": 8,
     "metadata": {},
     "output_type": "execute_result"
    }
   ],
   "source": [
    "run_command(\"git status\")"
   ]
  },
  {
   "cell_type": "code",
   "execution_count": 9,
   "metadata": {},
   "outputs": [],
   "source": [
    "def setup_repo():\n",
    "    \"\"\"\n",
    "    Set up the repository with a commit message template and Git hooks.\n",
    "    \"\"\"\n",
    "    print(\">>> Setting up repository...\")\n",
    "    run_command(\"git config --local commit.template .gitmessage\")\n",
    "    \n",
    "    if not os.path.exists(\".git/hooks/commit-msg\"):\n",
    "        print(\"Installing git hooks...\")\n",
    "        run_command(\"pip install pre-commit\")\n",
    "        run_command(\"pre-commit install --hook-type commit-msg\")\n"
   ]
  },
  {
   "cell_type": "code",
   "execution_count": 10,
   "metadata": {},
   "outputs": [],
   "source": [
    "def sync_dev_branch():\n",
    "    \"\"\"\n",
    "    Sync the default branch with the remote repository.\n",
    "    \"\"\"\n",
    "    print(f\"\\n>>> Syncing {DEFAULT_BRANCH} branch...\")\n",
    "    run_command(f\"git checkout {DEFAULT_BRANCH}\")\n",
    "    run_command(f\"git pull origin {DEFAULT_BRANCH}\")\n"
   ]
  },
  {
   "cell_type": "code",
   "execution_count": 13,
   "metadata": {},
   "outputs": [
    {
     "name": "stdout",
     "output_type": "stream",
     "text": [
      "\n",
      ">>> Syncing master branch...\n"
     ]
    }
   ],
   "source": [
    "sync_dev_branch()\n"
   ]
  },
  {
   "cell_type": "code",
   "execution_count": null,
   "metadata": {},
   "outputs": [],
   "source": []
  }
 ],
 "metadata": {
  "kernelspec": {
   "display_name": "Python 3",
   "language": "python",
   "name": "python3"
  },
  "language_info": {
   "codemirror_mode": {
    "name": "ipython",
    "version": 3
   },
   "file_extension": ".py",
   "mimetype": "text/x-python",
   "name": "python",
   "nbconvert_exporter": "python",
   "pygments_lexer": "ipython3",
   "version": "3.12.5"
  }
 },
 "nbformat": 4,
 "nbformat_minor": 2
}
